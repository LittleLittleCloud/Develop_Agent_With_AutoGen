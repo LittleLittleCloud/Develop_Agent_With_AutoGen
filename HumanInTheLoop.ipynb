{
 "cells": [
  {
   "cell_type": "markdown",
   "metadata": {},
   "source": [
    "## This notebook shows how to introduce human as user agent into conversation"
   ]
  },
  {
   "cell_type": "code",
   "execution_count": 45,
   "metadata": {},
   "outputs": [],
   "source": [
    "from dataclasses import dataclass, field\n",
    "from typing import List, Optional\n",
    "import base64\n",
    "from io import BytesIO\n",
    "from autogen_core.base import MessageContext, AgentId, AgentInstantiationContext, TopicId\n",
    "from autogen_core.components import DefaultTopicId, RoutedAgent, default_subscription, message_handler, TypeSubscription\n",
    "from autogen_core.components.code_executor import CodeExecutor, extract_markdown_code_blocks\n",
    "from autogen_core.components.models import (\n",
    "    AssistantMessage,\n",
    "    ChatCompletionClient,\n",
    "    LLMMessage,\n",
    "    SystemMessage,\n",
    "    UserMessage,\n",
    ")\n",
    "import tempfile\n",
    "from autogen_core.components.tool_agent import ToolAgent, tool_agent_caller_loop\n",
    "from autogen_core.application import SingleThreadedAgentRuntime\n",
    "from autogen_core.components.models import OpenAIChatCompletionClient\n",
    "import random\n",
    "\n",
    "from autogen_core.base import CancellationToken\n",
    "from autogen_core.components.tools import FunctionTool, ToolSchema\n",
    "from autogen_core.components._image import Image\n",
    "from typing_extensions import Annotated\n",
    "from pydantic import BaseModel\n",
    "from PIL import Image as PILImage\n",
    "import os\n",
    "import uuid;"
   ]
  },
  {
   "cell_type": "markdown",
   "metadata": {},
   "source": [
    "# Message Contract\n",
    "\n",
    "Here we introduce two contracts\n",
    "- TextMessage: the text message\n",
    "- Conversation: the chat history"
   ]
  },
  {
   "cell_type": "code",
   "execution_count": 46,
   "metadata": {},
   "outputs": [],
   "source": [
    "class TextMessage(BaseModel):\n",
    "    text: str\n",
    "    source: str\n",
    "\n",
    "class Conversation(BaseModel):\n",
    "    chat_history: List[TextMessage]"
   ]
  },
  {
   "cell_type": "markdown",
   "metadata": {},
   "source": [
    "## UserAgent\n",
    "We first define the UserAgent class, which represents the human user in the conversation.\n",
    "\n",
    "The UserAgent handles Conversation in the following way. When it receives a conversation, it first prompts the user for a response.\n",
    "If user says `TERMINATE`, the conversation is terminated. Otherwise, the user's response is added to the conversation and publish to agent runtime."
   ]
  },
  {
   "cell_type": "code",
   "execution_count": 47,
   "metadata": {},
   "outputs": [],
   "source": [
    "class UserAgent(RoutedAgent):\n",
    "    def __init__(self, description: str, assistant_topic_type: str) -> None:\n",
    "        super().__init__(description=description)\n",
    "        self._assistant_topic_type = assistant_topic_type\n",
    "\n",
    "    @message_handler\n",
    "    async def handle_request_to_speak(self, message: Conversation, ctx: MessageContext) -> None:\n",
    "        user_input = input(\"Enter your message, type 'TERMINATE' to terminate the task: \")\n",
    "        print(f\"### User: \\n{user_input}\")\n",
    "        if user_input == \"TERMINATE\": # end the conversation\n",
    "            return\n",
    "        \n",
    "        message.chat_history.append(TextMessage(text=user_input, source=self.type))\n",
    "        await self.publish_message(\n",
    "            message,\n",
    "            DefaultTopicId(type=self._assistant_topic_type),\n",
    "        )"
   ]
  },
  {
   "cell_type": "markdown",
   "metadata": {},
   "source": [
    "## Assistant\n",
    "\n",
    "The Assistant class is the agent that interacts with the user. It receives the conversation from the UserAgent, then uses LLM to generate a response. The response is then added to the conversation and published to the UserAgent."
   ]
  },
  {
   "cell_type": "code",
   "execution_count": 48,
   "metadata": {},
   "outputs": [],
   "source": [
    "class Assistant(RoutedAgent):\n",
    "    def __init__(self,\n",
    "                 model_client: ChatCompletionClient,\n",
    "                 system_message: str = \"You are a helpful AI assistant.\",\n",
    "                 user_topic_type: str = \"user\") -> None:\n",
    "        super().__init__(\"An assistant agent.\")\n",
    "        self._model_client = model_client\n",
    "        self._system_message = system_message\n",
    "        self._user_topic_type = user_topic_type\n",
    "\n",
    "    @message_handler\n",
    "    async def handle_message(self, message: Conversation, ctx: MessageContext) -> None:\n",
    "        chat_history: List[LLMMessage] = [SystemMessage(content=self._system_message)]\n",
    "        for msg in message.chat_history:\n",
    "            if msg.source == self.type:\n",
    "                chat_history.append(AssistantMessage(content=msg.text, source=\"assistant\"))\n",
    "            elif msg.source == self._user_topic_type:\n",
    "                chat_history.append(UserMessage(content=msg.text, source=\"user\"))\n",
    "            else:\n",
    "                raise ValueError(f\"Unknown message source: {msg.source}\")\n",
    "            \n",
    "        result = await self._model_client.create(chat_history)\n",
    "        print(f\"\\n{'-'*80}\\nAssistant:\\n{result.content}\")\n",
    "        message.chat_history.append(TextMessage(text=result.content, source=self.type))\n",
    "        await self.publish_message(message, topic_id=DefaultTopicId(type=self._user_topic_type))"
   ]
  },
  {
   "cell_type": "code",
   "execution_count": 50,
   "metadata": {},
   "outputs": [
    {
     "name": "stdout",
     "output_type": "stream",
     "text": [
      "\n",
      "--------------------------------------------------------------------------------\n",
      "Assistant:\n",
      "How can I assist you today?\n",
      "### User: \n",
      "I am Rich Lander, tell me a Joke\n",
      "\n",
      "--------------------------------------------------------------------------------\n",
      "Assistant:\n",
      "Sure, Rich! Here’s a joke for you:\n",
      "\n",
      "Why did the scarecrow win an award?\n",
      "\n",
      "Because he was outstanding in his field!\n",
      "### User: \n",
      "Sumarize the conversation\n",
      "\n",
      "--------------------------------------------------------------------------------\n",
      "Assistant:\n",
      "Rich Lander asked for a joke, and I provided one about a scarecrow winning an award for being outstanding in his field.\n",
      "### User: \n",
      "Who are you talking to\n",
      "\n",
      "--------------------------------------------------------------------------------\n",
      "Assistant:\n",
      "I'm talking to you, Rich Lander! How can I assist you further?\n",
      "### User: \n",
      "TERMINATE\n"
     ]
    }
   ],
   "source": [
    "runtime = SingleThreadedAgentRuntime()\n",
    "user_agent_type = await UserAgent.register(\n",
    "    runtime,\n",
    "    type=\"user\",\n",
    "    factory=lambda: UserAgent(\n",
    "        description=\"A user agent that generates messages for the assistant agent.\",\n",
    "        assistant_topic_type=\"assistant\"\n",
    "    ),\n",
    ")\n",
    "\n",
    "assistant_agent_type = await Assistant.register(\n",
    "    runtime,\n",
    "    type=\"assistant\",\n",
    "    factory=lambda: Assistant(\n",
    "        model_client=OpenAIChatCompletionClient(\n",
    "            api_key=os.environ.get(\"OPENAI_API_KEY\"),\n",
    "            model=\"gpt-4o-mini\"\n",
    "        ),\n",
    "        user_topic_type=\"user\"\n",
    "    ),\n",
    ")\n",
    "\n",
    "await runtime.add_subscription(\n",
    "    TypeSubscription(\"user\", user_agent_type.type))\n",
    "await runtime.add_subscription(\n",
    "    TypeSubscription(\"assistant\", assistant_agent_type.type))\n",
    "\n",
    "runtime.start()\n",
    "session_id = str(uuid.uuid4())\n",
    "msg = Conversation(chat_history=[])\n",
    "await runtime.publish_message(\n",
    "    msg,\n",
    "    TopicId(type=\"assistant\", source=session_id),\n",
    ")\n",
    "await runtime.stop_when_idle()\n"
   ]
  },
  {
   "cell_type": "markdown",
   "metadata": {},
   "source": [
    "## What we learn\n",
    "- How to introduce human as user agent into conversation"
   ]
  }
 ],
 "metadata": {
  "kernelspec": {
   "display_name": "venv",
   "language": "python",
   "name": "python3"
  },
  "language_info": {
   "codemirror_mode": {
    "name": "ipython",
    "version": 3
   },
   "file_extension": ".py",
   "mimetype": "text/x-python",
   "name": "python",
   "nbconvert_exporter": "python",
   "pygments_lexer": "ipython3",
   "version": "3.12.4"
  }
 },
 "nbformat": 4,
 "nbformat_minor": 2
}
